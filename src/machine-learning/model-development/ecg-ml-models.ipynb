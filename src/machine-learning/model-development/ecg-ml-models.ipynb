{
 "cells": [
  {
   "cell_type": "code",
   "execution_count": 485,
   "metadata": {},
   "outputs": [],
   "source": [
    "import pandas as pd\n",
    "import numpy as np\n",
    "import matplotlib.pyplot as plt\n",
    "import seaborn as sns\n",
    "%matplotlib inline\n",
    "from sklearn.preprocessing import MinMaxScaler\n",
    "from sklearn.metrics import classification_report, confusion_matrix"
   ]
  },
  {
   "cell_type": "code",
   "execution_count": 486,
   "metadata": {},
   "outputs": [],
   "source": [
    "X_train_1 = pd.DataFrame(pd.read_pickle('..\\\\..\\\\data\\\\processed\\\\train-set\\\\train_data_1.pkl'))\n",
    "X_train_6 = pd.DataFrame(pd.read_pickle('..\\\\..\\\\data\\\\processed\\\\train-set\\\\train_data_6.pkl'))\n",
    "X_train_7 = pd.DataFrame(pd.read_pickle('..\\\\..\\\\data\\\\processed\\\\train-set\\\\train_data_7.pkl'))\n",
    "X_train_8 = pd.DataFrame(pd.read_pickle('..\\\\..\\\\data\\\\processed\\\\train-set\\\\train_data_8.pkl'))\n",
    "X_train_10 = pd.DataFrame(pd.read_pickle('..\\\\..\\\\data\\\\processed\\\\train-set\\\\train_data_10.pkl'))\n",
    "X_train_11 = pd.DataFrame(pd.read_pickle('..\\\\..\\\\data\\\\processed\\\\train-set\\\\train_data_11.pkl'))"
   ]
  },
  {
   "cell_type": "code",
   "execution_count": 487,
   "metadata": {},
   "outputs": [
    {
     "data": {
      "text/html": [
       "<div>\n",
       "<style scoped>\n",
       "    .dataframe tbody tr th:only-of-type {\n",
       "        vertical-align: middle;\n",
       "    }\n",
       "\n",
       "    .dataframe tbody tr th {\n",
       "        vertical-align: top;\n",
       "    }\n",
       "\n",
       "    .dataframe thead th {\n",
       "        text-align: right;\n",
       "    }\n",
       "</style>\n",
       "<table border=\"1\" class=\"dataframe\">\n",
       "  <thead>\n",
       "    <tr style=\"text-align: right;\">\n",
       "      <th></th>\n",
       "      <th>0</th>\n",
       "      <th>1</th>\n",
       "      <th>2</th>\n",
       "      <th>3</th>\n",
       "      <th>4</th>\n",
       "      <th>5</th>\n",
       "      <th>6</th>\n",
       "      <th>7</th>\n",
       "      <th>8</th>\n",
       "      <th>9</th>\n",
       "      <th>...</th>\n",
       "      <th>90</th>\n",
       "      <th>91</th>\n",
       "      <th>92</th>\n",
       "      <th>93</th>\n",
       "      <th>94</th>\n",
       "      <th>95</th>\n",
       "      <th>96</th>\n",
       "      <th>97</th>\n",
       "      <th>98</th>\n",
       "      <th>99</th>\n",
       "    </tr>\n",
       "  </thead>\n",
       "  <tbody>\n",
       "    <tr>\n",
       "      <th>count</th>\n",
       "      <td>4503.0</td>\n",
       "      <td>4503.000000</td>\n",
       "      <td>4503.0</td>\n",
       "      <td>4503.0</td>\n",
       "      <td>4503.000000</td>\n",
       "      <td>4503.000000</td>\n",
       "      <td>4503.000000</td>\n",
       "      <td>4503.00000</td>\n",
       "      <td>4503.000000</td>\n",
       "      <td>4503.000000</td>\n",
       "      <td>...</td>\n",
       "      <td>4503.0</td>\n",
       "      <td>4503.0</td>\n",
       "      <td>4503.0</td>\n",
       "      <td>4503.0</td>\n",
       "      <td>4503.0</td>\n",
       "      <td>4503.0</td>\n",
       "      <td>4503.0</td>\n",
       "      <td>4503.0</td>\n",
       "      <td>4503.0</td>\n",
       "      <td>4503.0</td>\n",
       "    </tr>\n",
       "    <tr>\n",
       "      <th>unique</th>\n",
       "      <td>4044.0</td>\n",
       "      <td>4359.000000</td>\n",
       "      <td>85.0</td>\n",
       "      <td>729.0</td>\n",
       "      <td>4359.000000</td>\n",
       "      <td>4359.000000</td>\n",
       "      <td>406.000000</td>\n",
       "      <td>715.00000</td>\n",
       "      <td>4359.000000</td>\n",
       "      <td>4359.000000</td>\n",
       "      <td>...</td>\n",
       "      <td>1.0</td>\n",
       "      <td>1.0</td>\n",
       "      <td>767.0</td>\n",
       "      <td>1.0</td>\n",
       "      <td>1.0</td>\n",
       "      <td>731.0</td>\n",
       "      <td>1.0</td>\n",
       "      <td>729.0</td>\n",
       "      <td>730.0</td>\n",
       "      <td>1.0</td>\n",
       "    </tr>\n",
       "    <tr>\n",
       "      <th>top</th>\n",
       "      <td>403.0</td>\n",
       "      <td>251.195767</td>\n",
       "      <td>1.0</td>\n",
       "      <td>0.0</td>\n",
       "      <td>99.237556</td>\n",
       "      <td>16.524067</td>\n",
       "      <td>297.029703</td>\n",
       "      <td>67.72009</td>\n",
       "      <td>-0.125557</td>\n",
       "      <td>-0.105975</td>\n",
       "      <td>...</td>\n",
       "      <td>0.0</td>\n",
       "      <td>0.0</td>\n",
       "      <td>1.0</td>\n",
       "      <td>0.0</td>\n",
       "      <td>0.0</td>\n",
       "      <td>1.0</td>\n",
       "      <td>0.0</td>\n",
       "      <td>1.0</td>\n",
       "      <td>1.0</td>\n",
       "      <td>0.0</td>\n",
       "    </tr>\n",
       "    <tr>\n",
       "      <th>freq</th>\n",
       "      <td>5.0</td>\n",
       "      <td>3.000000</td>\n",
       "      <td>877.0</td>\n",
       "      <td>369.0</td>\n",
       "      <td>3.000000</td>\n",
       "      <td>3.000000</td>\n",
       "      <td>2419.000000</td>\n",
       "      <td>31.00000</td>\n",
       "      <td>3.000000</td>\n",
       "      <td>3.000000</td>\n",
       "      <td>...</td>\n",
       "      <td>4503.0</td>\n",
       "      <td>4503.0</td>\n",
       "      <td>482.0</td>\n",
       "      <td>4503.0</td>\n",
       "      <td>4503.0</td>\n",
       "      <td>522.0</td>\n",
       "      <td>4503.0</td>\n",
       "      <td>590.0</td>\n",
       "      <td>569.0</td>\n",
       "      <td>4503.0</td>\n",
       "    </tr>\n",
       "  </tbody>\n",
       "</table>\n",
       "<p>4 rows × 600 columns</p>\n",
       "</div>"
      ],
      "text/plain": [
       "            0            1       2       3            4            5   \\\n",
       "count   4503.0  4503.000000  4503.0  4503.0  4503.000000  4503.000000   \n",
       "unique  4044.0  4359.000000    85.0   729.0  4359.000000  4359.000000   \n",
       "top      403.0   251.195767     1.0     0.0    99.237556    16.524067   \n",
       "freq       5.0     3.000000   877.0   369.0     3.000000     3.000000   \n",
       "\n",
       "                 6           7            8            9   ...      90  \\\n",
       "count   4503.000000  4503.00000  4503.000000  4503.000000  ...  4503.0   \n",
       "unique   406.000000   715.00000  4359.000000  4359.000000  ...     1.0   \n",
       "top      297.029703    67.72009    -0.125557    -0.105975  ...     0.0   \n",
       "freq    2419.000000    31.00000     3.000000     3.000000  ...  4503.0   \n",
       "\n",
       "            91      92      93      94      95      96      97      98      99  \n",
       "count   4503.0  4503.0  4503.0  4503.0  4503.0  4503.0  4503.0  4503.0  4503.0  \n",
       "unique     1.0   767.0     1.0     1.0   731.0     1.0   729.0   730.0     1.0  \n",
       "top        0.0     1.0     0.0     0.0     1.0     0.0     1.0     1.0     0.0  \n",
       "freq    4503.0   482.0  4503.0  4503.0   522.0  4503.0   590.0   569.0  4503.0  \n",
       "\n",
       "[4 rows x 600 columns]"
      ]
     },
     "execution_count": 487,
     "metadata": {},
     "output_type": "execute_result"
    }
   ],
   "source": [
    "X_train = pd.concat([X_train_1, X_train_6, X_train_7, X_train_8, X_train_10, X_train_11], axis=1)\n",
    "X_train.describe()"
   ]
  },
  {
   "cell_type": "code",
   "execution_count": 488,
   "metadata": {},
   "outputs": [
    {
     "data": {
      "text/plain": [
       "Int64Index([ 0,  1,  2,  3,  4,  5,  6,  7,  8,  9,\n",
       "            ...\n",
       "            90, 91, 92, 93, 94, 95, 96, 97, 98, 99],\n",
       "           dtype='int64', length=600)"
      ]
     },
     "execution_count": 488,
     "metadata": {},
     "output_type": "execute_result"
    }
   ],
   "source": [
    "X_train.columns"
   ]
  },
  {
   "cell_type": "code",
   "execution_count": 489,
   "metadata": {},
   "outputs": [
    {
     "data": {
      "text/plain": [
       "count    4503.000000\n",
       "mean        2.464579\n",
       "std         1.738841\n",
       "min         0.000000\n",
       "25%         1.000000\n",
       "50%         2.000000\n",
       "75%         4.000000\n",
       "max         6.000000\n",
       "Name: First_label, dtype: float64"
      ]
     },
     "execution_count": 489,
     "metadata": {},
     "output_type": "execute_result"
    }
   ],
   "source": [
    "y_train = pd.DataFrame(pd.read_csv('..\\\\..\\\\data\\\\processed\\\\train-set\\\\new_train_labels.csv'))['First_label']\n",
    "y_train.describe()"
   ]
  },
  {
   "cell_type": "code",
   "execution_count": 490,
   "metadata": {},
   "outputs": [],
   "source": [
    "X_test_1 = pd.DataFrame(pd.read_pickle('..\\\\..\\\\data\\\\processed\\\\test-set\\\\test_data_1.pkl'))\n",
    "X_test_6 = pd.DataFrame(pd.read_pickle('..\\\\..\\\\data\\\\processed\\\\test-set\\\\test_data_6.pkl'))\n",
    "X_test_7 = pd.DataFrame(pd.read_pickle('..\\\\..\\\\data\\\\processed\\\\test-set\\\\test_data_7.pkl'))\n",
    "X_test_8 = pd.DataFrame(pd.read_pickle('..\\\\..\\\\data\\\\processed\\\\test-set\\\\test_data_8.pkl'))\n",
    "X_test_10 = pd.DataFrame(pd.read_pickle('..\\\\..\\\\data\\\\processed\\\\test-set\\\\test_data_10.pkl'))\n",
    "X_test_11 = pd.DataFrame(pd.read_pickle('..\\\\..\\\\data\\\\processed\\\\test-set\\\\test_data_11.pkl'))"
   ]
  },
  {
   "cell_type": "code",
   "execution_count": 491,
   "metadata": {},
   "outputs": [
    {
     "data": {
      "text/html": [
       "<div>\n",
       "<style scoped>\n",
       "    .dataframe tbody tr th:only-of-type {\n",
       "        vertical-align: middle;\n",
       "    }\n",
       "\n",
       "    .dataframe tbody tr th {\n",
       "        vertical-align: top;\n",
       "    }\n",
       "\n",
       "    .dataframe thead th {\n",
       "        text-align: right;\n",
       "    }\n",
       "</style>\n",
       "<table border=\"1\" class=\"dataframe\">\n",
       "  <thead>\n",
       "    <tr style=\"text-align: right;\">\n",
       "      <th></th>\n",
       "      <th>0</th>\n",
       "      <th>1</th>\n",
       "      <th>2</th>\n",
       "      <th>3</th>\n",
       "      <th>4</th>\n",
       "      <th>5</th>\n",
       "      <th>6</th>\n",
       "      <th>7</th>\n",
       "      <th>8</th>\n",
       "      <th>9</th>\n",
       "      <th>...</th>\n",
       "      <th>90</th>\n",
       "      <th>91</th>\n",
       "      <th>92</th>\n",
       "      <th>93</th>\n",
       "      <th>94</th>\n",
       "      <th>95</th>\n",
       "      <th>96</th>\n",
       "      <th>97</th>\n",
       "      <th>98</th>\n",
       "      <th>99</th>\n",
       "    </tr>\n",
       "  </thead>\n",
       "  <tbody>\n",
       "    <tr>\n",
       "      <th>count</th>\n",
       "      <td>1112.000000</td>\n",
       "      <td>1112.000000</td>\n",
       "      <td>1112.0</td>\n",
       "      <td>1112.0</td>\n",
       "      <td>1112.000000</td>\n",
       "      <td>1112.000000</td>\n",
       "      <td>1112.000000</td>\n",
       "      <td>1112.000000</td>\n",
       "      <td>1112.000000</td>\n",
       "      <td>1112.000000</td>\n",
       "      <td>...</td>\n",
       "      <td>1112.0</td>\n",
       "      <td>1112.0</td>\n",
       "      <td>1112.0</td>\n",
       "      <td>1112.0</td>\n",
       "      <td>1112.0</td>\n",
       "      <td>1112.0</td>\n",
       "      <td>1112.0</td>\n",
       "      <td>1112.0</td>\n",
       "      <td>1112.0</td>\n",
       "      <td>1112.0</td>\n",
       "    </tr>\n",
       "    <tr>\n",
       "      <th>unique</th>\n",
       "      <td>1078.000000</td>\n",
       "      <td>1100.000000</td>\n",
       "      <td>60.0</td>\n",
       "      <td>336.0</td>\n",
       "      <td>1100.000000</td>\n",
       "      <td>1100.000000</td>\n",
       "      <td>278.000000</td>\n",
       "      <td>427.000000</td>\n",
       "      <td>1100.000000</td>\n",
       "      <td>1100.000000</td>\n",
       "      <td>...</td>\n",
       "      <td>1.0</td>\n",
       "      <td>1.0</td>\n",
       "      <td>365.0</td>\n",
       "      <td>1.0</td>\n",
       "      <td>1.0</td>\n",
       "      <td>364.0</td>\n",
       "      <td>1.0</td>\n",
       "      <td>339.0</td>\n",
       "      <td>326.0</td>\n",
       "      <td>1.0</td>\n",
       "    </tr>\n",
       "    <tr>\n",
       "      <th>top</th>\n",
       "      <td>320.571429</td>\n",
       "      <td>173.976218</td>\n",
       "      <td>1.0</td>\n",
       "      <td>0.0</td>\n",
       "      <td>243.961172</td>\n",
       "      <td>44.417776</td>\n",
       "      <td>297.029703</td>\n",
       "      <td>76.142132</td>\n",
       "      <td>0.031797</td>\n",
       "      <td>-0.115539</td>\n",
       "      <td>...</td>\n",
       "      <td>0.0</td>\n",
       "      <td>0.0</td>\n",
       "      <td>1.0</td>\n",
       "      <td>0.0</td>\n",
       "      <td>0.0</td>\n",
       "      <td>1.0</td>\n",
       "      <td>0.0</td>\n",
       "      <td>1.0</td>\n",
       "      <td>1.0</td>\n",
       "      <td>0.0</td>\n",
       "    </tr>\n",
       "    <tr>\n",
       "      <th>freq</th>\n",
       "      <td>3.000000</td>\n",
       "      <td>2.000000</td>\n",
       "      <td>218.0</td>\n",
       "      <td>79.0</td>\n",
       "      <td>2.000000</td>\n",
       "      <td>2.000000</td>\n",
       "      <td>574.000000</td>\n",
       "      <td>13.000000</td>\n",
       "      <td>2.000000</td>\n",
       "      <td>2.000000</td>\n",
       "      <td>...</td>\n",
       "      <td>1112.0</td>\n",
       "      <td>1112.0</td>\n",
       "      <td>123.0</td>\n",
       "      <td>1112.0</td>\n",
       "      <td>1112.0</td>\n",
       "      <td>141.0</td>\n",
       "      <td>1112.0</td>\n",
       "      <td>142.0</td>\n",
       "      <td>149.0</td>\n",
       "      <td>1112.0</td>\n",
       "    </tr>\n",
       "  </tbody>\n",
       "</table>\n",
       "<p>4 rows × 600 columns</p>\n",
       "</div>"
      ],
      "text/plain": [
       "                 0            1       2       3            4            5   \\\n",
       "count   1112.000000  1112.000000  1112.0  1112.0  1112.000000  1112.000000   \n",
       "unique  1078.000000  1100.000000    60.0   336.0  1100.000000  1100.000000   \n",
       "top      320.571429   173.976218     1.0     0.0   243.961172    44.417776   \n",
       "freq       3.000000     2.000000   218.0    79.0     2.000000     2.000000   \n",
       "\n",
       "                 6            7            8            9   ...      90  \\\n",
       "count   1112.000000  1112.000000  1112.000000  1112.000000  ...  1112.0   \n",
       "unique   278.000000   427.000000  1100.000000  1100.000000  ...     1.0   \n",
       "top      297.029703    76.142132     0.031797    -0.115539  ...     0.0   \n",
       "freq     574.000000    13.000000     2.000000     2.000000  ...  1112.0   \n",
       "\n",
       "            91      92      93      94      95      96      97      98      99  \n",
       "count   1112.0  1112.0  1112.0  1112.0  1112.0  1112.0  1112.0  1112.0  1112.0  \n",
       "unique     1.0   365.0     1.0     1.0   364.0     1.0   339.0   326.0     1.0  \n",
       "top        0.0     1.0     0.0     0.0     1.0     0.0     1.0     1.0     0.0  \n",
       "freq    1112.0   123.0  1112.0  1112.0   141.0  1112.0   142.0   149.0  1112.0  \n",
       "\n",
       "[4 rows x 600 columns]"
      ]
     },
     "execution_count": 491,
     "metadata": {},
     "output_type": "execute_result"
    }
   ],
   "source": [
    "X_test = pd.concat([X_test_1, X_test_6, X_test_7, X_test_8, X_test_10, X_test_11], axis=1)\n",
    "X_test.describe()"
   ]
  },
  {
   "cell_type": "code",
   "execution_count": 492,
   "metadata": {},
   "outputs": [
    {
     "data": {
      "text/plain": [
       "count    1112.000000\n",
       "mean        2.468525\n",
       "std         1.721600\n",
       "min         0.000000\n",
       "25%         1.000000\n",
       "50%         2.000000\n",
       "75%         4.000000\n",
       "max         6.000000\n",
       "Name: First_label, dtype: float64"
      ]
     },
     "execution_count": 492,
     "metadata": {},
     "output_type": "execute_result"
    }
   ],
   "source": [
    "y_test = pd.DataFrame(pd.read_csv('..\\\\..\\\\data\\\\processed\\\\test-set\\\\new_test_labels.csv'))['First_label']\n",
    "y_test.describe()"
   ]
  },
  {
   "cell_type": "code",
   "execution_count": 493,
   "metadata": {},
   "outputs": [],
   "source": [
    "import pickle\n",
    "\n",
    "with open('..\\\\..\\\\data\\\\processed\\\\train-set\\\\train_features.pickle', 'wb') as handle:\n",
    "    pickle.dump(X_train, handle, protocol=pickle.HIGHEST_PROTOCOL)\n",
    "\n",
    "with open('..\\\\..\\\\data\\\\processed\\\\test-set\\\\test_features.pickle', 'wb') as handle:\n",
    "    pickle.dump(X_test, handle, protocol=pickle.HIGHEST_PROTOCOL)"
   ]
  },
  {
   "cell_type": "code",
   "execution_count": 494,
   "metadata": {},
   "outputs": [
    {
     "name": "stdout",
     "output_type": "stream",
     "text": [
      "              precision    recall  f1-score   support\n",
      "\n",
      "         0.0       0.48      0.47      0.47       178\n",
      "         1.0       0.40      0.43      0.42       129\n",
      "         2.0       0.80      0.75      0.78       360\n",
      "         3.0       0.32      0.37      0.34       124\n",
      "         4.0       0.42      0.42      0.42       125\n",
      "         5.0       0.48      0.48      0.48       152\n",
      "         6.0       0.31      0.25      0.28        44\n",
      "\n",
      "    accuracy                           0.53      1112\n",
      "   macro avg       0.46      0.45      0.46      1112\n",
      "weighted avg       0.54      0.53      0.54      1112\n",
      "\n"
     ]
    }
   ],
   "source": [
    "from sklearn.tree import DecisionTreeClassifier\n",
    "dtree = DecisionTreeClassifier()\n",
    "dtree.fit(X_train,y_train)\n",
    "predictions = dtree.predict(X_test)\n",
    "from sklearn.metrics import classification_report,confusion_matrix\n",
    "print(classification_report(y_test,predictions))"
   ]
  },
  {
   "cell_type": "code",
   "execution_count": 495,
   "metadata": {},
   "outputs": [
    {
     "name": "stdout",
     "output_type": "stream",
     "text": [
      "[[ 84  25  14  18   7  24   6]\n",
      " [ 19  56  11  15  12  12   4]\n",
      " [ 18  18 271  22  18   7   6]\n",
      " [ 10   9  14  46  21  18   6]\n",
      " [ 10  14   9  26  53  13   0]\n",
      " [ 22  16  12  12  14  73   3]\n",
      " [ 13   2   8   4   2   4  11]]\n"
     ]
    }
   ],
   "source": [
    "print(confusion_matrix(y_test,predictions))"
   ]
  },
  {
   "cell_type": "code",
   "execution_count": 496,
   "metadata": {},
   "outputs": [
    {
     "data": {
      "text/plain": [
       "0.987119697979125"
      ]
     },
     "execution_count": 496,
     "metadata": {},
     "output_type": "execute_result"
    }
   ],
   "source": [
    "train_score = dtree.score(X_train, y_train)\n",
    "train_score"
   ]
  },
  {
   "cell_type": "code",
   "execution_count": 497,
   "metadata": {},
   "outputs": [
    {
     "data": {
      "text/plain": [
       "0.5341726618705036"
      ]
     },
     "execution_count": 497,
     "metadata": {},
     "output_type": "execute_result"
    }
   ],
   "source": [
    "test_score = dtree.score(X_test, y_test)\n",
    "test_score"
   ]
  },
  {
   "cell_type": "code",
   "execution_count": 498,
   "metadata": {},
   "outputs": [],
   "source": [
    "from sklearn.preprocessing import StandardScaler"
   ]
  },
  {
   "cell_type": "code",
   "execution_count": 499,
   "metadata": {},
   "outputs": [],
   "source": [
    "scaler1 = StandardScaler()\n",
    "scaler2 = StandardScaler()"
   ]
  },
  {
   "cell_type": "code",
   "execution_count": 500,
   "metadata": {},
   "outputs": [
    {
     "data": {
      "text/plain": [
       "StandardScaler()"
      ]
     },
     "execution_count": 500,
     "metadata": {},
     "output_type": "execute_result"
    }
   ],
   "source": [
    "scaler1.fit(X_train)\n",
    "scaler2.fit(X_test)"
   ]
  },
  {
   "cell_type": "code",
   "execution_count": 501,
   "metadata": {},
   "outputs": [],
   "source": [
    "train_scaled_features = scaler1.transform(X_train)\n",
    "test_scaled_features = scaler2.transform(X_test)"
   ]
  },
  {
   "cell_type": "code",
   "execution_count": 502,
   "metadata": {},
   "outputs": [],
   "source": [
    "X_train = pd.DataFrame(train_scaled_features)\n",
    "X_test = pd.DataFrame(test_scaled_features)"
   ]
  },
  {
   "cell_type": "code",
   "execution_count": 503,
   "metadata": {},
   "outputs": [],
   "source": [
    "#df_feat.dropna(inplace=True, axis=1)\n",
    "#df_feat.describe()"
   ]
  },
  {
   "cell_type": "markdown",
   "metadata": {},
   "source": [
    "# KNN"
   ]
  },
  {
   "cell_type": "code",
   "execution_count": 509,
   "metadata": {},
   "outputs": [],
   "source": [
    "from sklearn.neighbors import KNeighborsClassifier"
   ]
  },
  {
   "cell_type": "code",
   "execution_count": 510,
   "metadata": {},
   "outputs": [],
   "source": [
    "knn = KNeighborsClassifier(n_neighbors=1)"
   ]
  },
  {
   "cell_type": "code",
   "execution_count": 511,
   "metadata": {},
   "outputs": [
    {
     "data": {
      "text/plain": [
       "KNeighborsClassifier(n_neighbors=1)"
      ]
     },
     "execution_count": 511,
     "metadata": {},
     "output_type": "execute_result"
    }
   ],
   "source": [
    "knn.fit(X_train,y_train)"
   ]
  },
  {
   "cell_type": "code",
   "execution_count": 512,
   "metadata": {},
   "outputs": [],
   "source": [
    "pred = knn.predict(X_test)"
   ]
  },
  {
   "cell_type": "code",
   "execution_count": 513,
   "metadata": {},
   "outputs": [],
   "source": [
    "from sklearn.metrics import classification_report,confusion_matrix"
   ]
  },
  {
   "cell_type": "code",
   "execution_count": 514,
   "metadata": {},
   "outputs": [
    {
     "name": "stdout",
     "output_type": "stream",
     "text": [
      "[[106  20  11  17  12  11   1]\n",
      " [ 13  84   8  10   6   8   0]\n",
      " [ 32  17 252  20  17  15   7]\n",
      " [ 21  11  16  38  18  17   3]\n",
      " [ 16  10  12  19  53  13   2]\n",
      " [ 31  10   6  15  14  76   0]\n",
      " [ 14   6   4   7   2   1  10]]\n"
     ]
    }
   ],
   "source": [
    "print(confusion_matrix(y_test,pred))"
   ]
  },
  {
   "cell_type": "code",
   "execution_count": 515,
   "metadata": {},
   "outputs": [
    {
     "data": {
      "text/plain": [
       "<matplotlib.axes._subplots.AxesSubplot at 0x12e101600a0>"
      ]
     },
     "execution_count": 515,
     "metadata": {},
     "output_type": "execute_result"
    },
    {
     "data": {
      "image/png": "[encoded data removed]",
      "text/plain": [
       "<Figure size 720x504 with 2 Axes>"
      ]
     },
     "metadata": {
      "needs_background": "light"
     },
     "output_type": "display_data"
    }
   ],
   "source": [
    "df_cm = pd.DataFrame(confusion_matrix(y_test,pred))\n",
    "plt.figure(figsize = (10,7))\n",
    "sns.heatmap(df_cm, cmap='Blues', xticklabels=False, yticklabels=False)"
   ]
  },
  {
   "cell_type": "code",
   "execution_count": 507,
   "metadata": {},
   "outputs": [
    {
     "data": {
      "text/plain": [
       "0.987119697979125"
      ]
     },
     "execution_count": 507,
     "metadata": {},
     "output_type": "execute_result"
    }
   ],
   "source": [
    "train_score = knn.score(X_train, y_train)\n",
    "train_score"
   ]
  },
  {
   "cell_type": "code",
   "execution_count": 516,
   "metadata": {},
   "outputs": [
    {
     "name": "stdout",
     "output_type": "stream",
     "text": [
      "              precision    recall  f1-score   support\n",
      "\n",
      "         0.0       0.45      0.60      0.52       178\n",
      "         1.0       0.53      0.65      0.59       129\n",
      "         2.0       0.82      0.70      0.75       360\n",
      "         3.0       0.30      0.31      0.30       124\n",
      "         4.0       0.43      0.42      0.43       125\n",
      "         5.0       0.54      0.50      0.52       152\n",
      "         6.0       0.43      0.23      0.30        44\n",
      "\n",
      "    accuracy                           0.56      1112\n",
      "   macro avg       0.50      0.49      0.49      1112\n",
      "weighted avg       0.57      0.56      0.56      1112\n",
      "\n"
     ]
    }
   ],
   "source": [
    "print(classification_report(y_test,pred))"
   ]
  },
  {
   "cell_type": "code",
   "execution_count": 434,
   "metadata": {},
   "outputs": [],
   "source": [
    "#Choosing K-value\n",
    "error_rate = []\n",
    "\n",
    "# Will take some time\n",
    "for i in range(1,40):\n",
    "    \n",
    "    knn = KNeighborsClassifier(n_neighbors=i)\n",
    "    knn.fit(X_train,y_train)\n",
    "    pred_i = knn.predict(X_test)\n",
    "    error_rate.append(np.mean(pred_i != y_test))"
   ]
  },
  {
   "cell_type": "code",
   "execution_count": 354,
   "metadata": {},
   "outputs": [
    {
     "data": {
      "text/plain": [
       "Text(0, 0.5, 'Error Rate')"
      ]
     },
     "execution_count": 354,
     "metadata": {},
     "output_type": "execute_result"
    },
    {
     "data": {
      "image/png": "[encoded data removed]",
      "text/plain": [
       "<Figure size 720x432 with 1 Axes>"
      ]
     },
     "metadata": {
      "needs_background": "light"
     },
     "output_type": "display_data"
    }
   ],
   "source": [
    "plt.figure(figsize=(10,6))\n",
    "plt.plot(range(1,40),error_rate,color='blue', linestyle='dashed', marker='o',\n",
    "         markerfacecolor='red', markersize=10)\n",
    "plt.title('Error Rate vs. K Value')\n",
    "plt.xlabel('K')\n",
    "plt.ylabel('Error Rate')"
   ]
  },
  {
   "cell_type": "code",
   "execution_count": 517,
   "metadata": {},
   "outputs": [
    {
     "name": "stdout",
     "output_type": "stream",
     "text": [
      "WITH K=1\n",
      "\n",
      "\n",
      "[[106  20  11  17  12  11   1]\n",
      " [ 13  84   8  10   6   8   0]\n",
      " [ 32  17 252  20  17  15   7]\n",
      " [ 21  11  16  38  18  17   3]\n",
      " [ 16  10  12  19  53  13   2]\n",
      " [ 31  10   6  15  14  76   0]\n",
      " [ 14   6   4   7   2   1  10]]\n",
      "\n",
      "\n",
      "              precision    recall  f1-score   support\n",
      "\n",
      "         0.0       0.45      0.60      0.52       178\n",
      "         1.0       0.53      0.65      0.59       129\n",
      "         2.0       0.82      0.70      0.75       360\n",
      "         3.0       0.30      0.31      0.30       124\n",
      "         4.0       0.43      0.42      0.43       125\n",
      "         5.0       0.54      0.50      0.52       152\n",
      "         6.0       0.43      0.23      0.30        44\n",
      "\n",
      "    accuracy                           0.56      1112\n",
      "   macro avg       0.50      0.49      0.49      1112\n",
      "weighted avg       0.57      0.56      0.56      1112\n",
      "\n"
     ]
    }
   ],
   "source": [
    "# FIRST A QUICK COMPARISON TO OUR ORIGINAL K=1\n",
    "knn = KNeighborsClassifier(n_neighbors=1)\n",
    "\n",
    "knn.fit(X_train,y_train)\n",
    "pred = knn.predict(X_test)\n",
    "\n",
    "print('WITH K=1')\n",
    "print('\\n')\n",
    "print(confusion_matrix(y_test,pred))\n",
    "print('\\n')\n",
    "print(classification_report(y_test,pred))"
   ]
  },
  {
   "cell_type": "code",
   "execution_count": 518,
   "metadata": {},
   "outputs": [
    {
     "data": {
      "text/plain": [
       "0.987119697979125"
      ]
     },
     "execution_count": 518,
     "metadata": {},
     "output_type": "execute_result"
    }
   ],
   "source": [
    "train_score = knn.score(X_train, y_train)\n",
    "train_score"
   ]
  },
  {
   "cell_type": "code",
   "execution_count": 519,
   "metadata": {},
   "outputs": [
    {
     "data": {
      "text/plain": [
       "0.5566546762589928"
      ]
     },
     "execution_count": 519,
     "metadata": {},
     "output_type": "execute_result"
    }
   ],
   "source": [
    "test_score = knn.score(X_test, y_test)\n",
    "test_score"
   ]
  },
  {
   "cell_type": "code",
   "execution_count": 520,
   "metadata": {},
   "outputs": [
    {
     "name": "stdout",
     "output_type": "stream",
     "text": [
      "WITH K=17\n",
      "\n",
      "\n",
      "[[142  12   9   4   2   8   1]\n",
      " [ 15  92   8   4   7   3   0]\n",
      " [ 44  22 270  12   3   9   0]\n",
      " [ 40  11  17  34   6  16   0]\n",
      " [ 22  15  12  23  46   7   0]\n",
      " [ 31  14   5   3   7  92   0]\n",
      " [ 23   8   7   2   2   1   1]]\n",
      "\n",
      "\n",
      "              precision    recall  f1-score   support\n",
      "\n",
      "         0.0       0.45      0.80      0.57       178\n",
      "         1.0       0.53      0.71      0.61       129\n",
      "         2.0       0.82      0.75      0.78       360\n",
      "         3.0       0.41      0.27      0.33       124\n",
      "         4.0       0.63      0.37      0.46       125\n",
      "         5.0       0.68      0.61      0.64       152\n",
      "         6.0       0.50      0.02      0.04        44\n",
      "\n",
      "    accuracy                           0.61      1112\n",
      "   macro avg       0.57      0.50      0.49      1112\n",
      "weighted avg       0.63      0.61      0.59      1112\n",
      "\n"
     ]
    }
   ],
   "source": [
    "# NOW WITH K=17\n",
    "knn = KNeighborsClassifier(n_neighbors=13)\n",
    "\n",
    "knn.fit(X_train,y_train)\n",
    "pred = knn.predict(X_test)\n",
    "\n",
    "print('WITH K=17')\n",
    "print('\\n')\n",
    "print(confusion_matrix(y_test,pred))\n",
    "print('\\n')\n",
    "print(classification_report(y_test,pred))"
   ]
  },
  {
   "cell_type": "code",
   "execution_count": 521,
   "metadata": {},
   "outputs": [
    {
     "data": {
      "text/plain": [
       "0.677770375305352"
      ]
     },
     "execution_count": 521,
     "metadata": {},
     "output_type": "execute_result"
    }
   ],
   "source": [
    "train_score = knn.score(X_train, y_train)\n",
    "train_score"
   ]
  },
  {
   "cell_type": "code",
   "execution_count": 523,
   "metadata": {},
   "outputs": [
    {
     "data": {
      "text/plain": [
       "0.6088129496402878"
      ]
     },
     "execution_count": 523,
     "metadata": {},
     "output_type": "execute_result"
    }
   ],
   "source": [
    "test_score = knn.score(X_test, y_test)\n",
    "test_score"
   ]
  },
  {
   "cell_type": "markdown",
   "metadata": {},
   "source": [
    "# DecisionTree Classifier"
   ]
  },
  {
   "cell_type": "code",
   "execution_count": 444,
   "metadata": {},
   "outputs": [],
   "source": [
    "from sklearn.tree import DecisionTreeClassifier"
   ]
  },
  {
   "cell_type": "code",
   "execution_count": 445,
   "metadata": {},
   "outputs": [],
   "source": [
    "dtree = DecisionTreeClassifier()"
   ]
  },
  {
   "cell_type": "code",
   "execution_count": 446,
   "metadata": {},
   "outputs": [
    {
     "data": {
      "text/plain": [
       "DecisionTreeClassifier()"
      ]
     },
     "execution_count": 446,
     "metadata": {},
     "output_type": "execute_result"
    }
   ],
   "source": [
    "dtree.fit(X_train,y_train)"
   ]
  },
  {
   "cell_type": "code",
   "execution_count": 447,
   "metadata": {},
   "outputs": [],
   "source": [
    "predictions = dtree.predict(X_test)"
   ]
  },
  {
   "cell_type": "code",
   "execution_count": 448,
   "metadata": {},
   "outputs": [],
   "source": [
    "from sklearn.metrics import classification_report,confusion_matrix"
   ]
  },
  {
   "cell_type": "code",
   "execution_count": 449,
   "metadata": {},
   "outputs": [
    {
     "name": "stdout",
     "output_type": "stream",
     "text": [
      "              precision    recall  f1-score   support\n",
      "\n",
      "         0.0       0.48      0.50      0.49       178\n",
      "         1.0       0.41      0.50      0.45       129\n",
      "         2.0       0.81      0.76      0.78       360\n",
      "         3.0       0.35      0.37      0.36       124\n",
      "         4.0       0.42      0.47      0.45       125\n",
      "         5.0       0.49      0.45      0.47       152\n",
      "         6.0       0.20      0.11      0.14        44\n",
      "\n",
      "    accuracy                           0.54      1112\n",
      "   macro avg       0.45      0.45      0.45      1112\n",
      "weighted avg       0.55      0.54      0.54      1112\n",
      "\n"
     ]
    }
   ],
   "source": [
    "print(classification_report(y_test,predictions))"
   ]
  },
  {
   "cell_type": "code",
   "execution_count": 450,
   "metadata": {},
   "outputs": [
    {
     "name": "stdout",
     "output_type": "stream",
     "text": [
      "[[ 89  24  12  17  13  16   7]\n",
      " [ 18  64  10  11  16   9   1]\n",
      " [ 17  23 272  20  13  11   4]\n",
      " [  9  16  12  46  22  15   4]\n",
      " [  6   8  11  24  59  16   1]\n",
      " [ 32  16   9  12  12  68   3]\n",
      " [ 16   4   8   1   5   5   5]]\n"
     ]
    }
   ],
   "source": [
    "print(confusion_matrix(y_test,predictions))"
   ]
  },
  {
   "cell_type": "code",
   "execution_count": 451,
   "metadata": {},
   "outputs": [
    {
     "data": {
      "text/plain": [
       "<matplotlib.axes._subplots.AxesSubplot at 0x12e0cb7f1f0>"
      ]
     },
     "execution_count": 451,
     "metadata": {},
     "output_type": "execute_result"
    },
    {
     "data": {
      "image/png": "[encoded data removed]",
      "text/plain": [
       "<Figure size 720x504 with 2 Axes>"
      ]
     },
     "metadata": {
      "needs_background": "light"
     },
     "output_type": "display_data"
    }
   ],
   "source": [
    "df_cm = pd.DataFrame(confusion_matrix(y_test,pred))\n",
    "plt.figure(figsize = (10,7))\n",
    "sns.heatmap(df_cm, cmap='Blues', xticklabels=False, yticklabels=False)"
   ]
  },
  {
   "cell_type": "code",
   "execution_count": 452,
   "metadata": {},
   "outputs": [
    {
     "data": {
      "text/plain": [
       "0.987119697979125"
      ]
     },
     "execution_count": 452,
     "metadata": {},
     "output_type": "execute_result"
    }
   ],
   "source": [
    "train_score = dtree.score(X_train, y_train)\n",
    "train_score"
   ]
  },
  {
   "cell_type": "code",
   "execution_count": 453,
   "metadata": {},
   "outputs": [
    {
     "data": {
      "text/plain": [
       "0.5422661870503597"
      ]
     },
     "execution_count": 453,
     "metadata": {},
     "output_type": "execute_result"
    }
   ],
   "source": [
    "test_score = dtree.score(X_test, y_test)\n",
    "test_score"
   ]
  },
  {
   "cell_type": "code",
   "execution_count": 454,
   "metadata": {},
   "outputs": [],
   "source": [
    "#train_predict = rfc.predict(X_train)\n",
    "#test_predict = rfc.predict(X_test)\n",
    "#train_mse = mean_squared_error(y_train, train_predict)\n",
    "#test_mse = mean_squared_error(y_test, test_predict)"
   ]
  },
  {
   "cell_type": "code",
   "execution_count": 371,
   "metadata": {},
   "outputs": [
    {
     "data": {
      "image/png": "[encoded data removed]",
      "text/plain": [
       "<Figure size 432x288 with 1 Axes>"
      ]
     },
     "metadata": {
      "needs_background": "light"
     },
     "output_type": "display_data"
    },
    {
     "data": {
      "text/plain": [
       "<matplotlib.axes._subplots.AxesSubplot at 0x12e0cb844f0>"
      ]
     },
     "execution_count": 371,
     "metadata": {},
     "output_type": "execute_result"
    }
   ],
   "source": [
    "#Hyperparameter tuning: choosing depth\n",
    "from yellowbrick.model_selection import ValidationCurve\n",
    "from warnings import simplefilter\n",
    "# Ignore all future warnings\n",
    "simplefilter(action='ignore', category=FutureWarning)\n",
    "X = pd.concat([X_train, X_test])\n",
    "y = pd.concat([y_train,y_test])\n",
    "# Plot the validation curve\n",
    "#print(validation_curve(dtree, X, y, \n",
    " #                      param_name=\"max_depth\", n_jobs=-1,\n",
    "  #                     param_range=np.arange(1, 11), \n",
    "   #                    cv=10, scoring=\"accuracy\"))\n",
    "\n",
    "\n",
    "viz = ValidationCurve(\n",
    "    DecisionTreeClassifier(), param_name=\"max_depth\",\n",
    "    param_range=np.arange(1, 11), cv=10, scoring=\"r2\"\n",
    ")\n",
    "\n",
    "# Fit and show the visualizer\n",
    "viz.fit(X, y)\n",
    "viz.show()"
   ]
  },
  {
   "cell_type": "code",
   "execution_count": 398,
   "metadata": {},
   "outputs": [],
   "source": [
    "dtree = DecisionTreeClassifier(max_depth=4, random_state=42)"
   ]
  },
  {
   "cell_type": "code",
   "execution_count": 399,
   "metadata": {},
   "outputs": [
    {
     "data": {
      "text/plain": [
       "DecisionTreeClassifier(max_depth=4, random_state=42)"
      ]
     },
     "execution_count": 399,
     "metadata": {},
     "output_type": "execute_result"
    }
   ],
   "source": [
    "dtree.fit(X_train,y_train)"
   ]
  },
  {
   "cell_type": "code",
   "execution_count": 400,
   "metadata": {},
   "outputs": [],
   "source": [
    "predictions = dtree.predict(X_test)"
   ]
  },
  {
   "cell_type": "code",
   "execution_count": 401,
   "metadata": {},
   "outputs": [],
   "source": [
    "from sklearn.metrics import classification_report,confusion_matrix"
   ]
  },
  {
   "cell_type": "code",
   "execution_count": 402,
   "metadata": {},
   "outputs": [
    {
     "name": "stdout",
     "output_type": "stream",
     "text": [
      "              precision    recall  f1-score   support\n",
      "\n",
      "         0.0       0.29      0.70      0.41       178\n",
      "         1.0       0.34      0.50      0.41       129\n",
      "         2.0       0.87      0.77      0.82       360\n",
      "         3.0       0.00      0.00      0.00       124\n",
      "         4.0       0.54      0.24      0.33       125\n",
      "         5.0       0.47      0.37      0.41       152\n",
      "         6.0       0.00      0.00      0.00        44\n",
      "\n",
      "    accuracy                           0.50      1112\n",
      "   macro avg       0.36      0.37      0.34      1112\n",
      "weighted avg       0.49      0.50      0.47      1112\n",
      "\n"
     ]
    },
    {
     "name": "stderr",
     "output_type": "stream",
     "text": [
      "C:\\Users\\11068\\Anaconda3\\lib\\site-packages\\sklearn\\metrics\\_classification.py:1221: UndefinedMetricWarning: Precision and F-score are ill-defined and being set to 0.0 in labels with no predicted samples. Use `zero_division` parameter to control this behavior.\n",
      "  _warn_prf(average, modifier, msg_start, len(result))\n"
     ]
    }
   ],
   "source": [
    "print(classification_report(y_test,predictions))"
   ]
  },
  {
   "cell_type": "code",
   "execution_count": 403,
   "metadata": {},
   "outputs": [
    {
     "name": "stdout",
     "output_type": "stream",
     "text": [
      "[[125  40   5   0   1   7   0]\n",
      " [ 35  65   6   0   4  19   0]\n",
      " [ 49  24 278   0   6   3   0]\n",
      " [ 69  21  10   0  10  14   0]\n",
      " [ 48  17  10   0  30  20   0]\n",
      " [ 81   8   5   0   2  56   0]\n",
      " [ 19  16   5   0   3   1   0]]\n"
     ]
    }
   ],
   "source": [
    "print(confusion_matrix(y_test,predictions))"
   ]
  },
  {
   "cell_type": "code",
   "execution_count": 404,
   "metadata": {},
   "outputs": [
    {
     "data": {
      "text/plain": [
       "0.5602931379080613"
      ]
     },
     "execution_count": 404,
     "metadata": {},
     "output_type": "execute_result"
    }
   ],
   "source": [
    "train_score = dtree.score(X_train, y_train)\n",
    "train_score"
   ]
  },
  {
   "cell_type": "code",
   "execution_count": 405,
   "metadata": {},
   "outputs": [
    {
     "data": {
      "text/plain": [
       "0.4982014388489209"
      ]
     },
     "execution_count": 405,
     "metadata": {},
     "output_type": "execute_result"
    }
   ],
   "source": [
    "test_score = dtree.score(X_test, y_test)\n",
    "test_score"
   ]
  },
  {
   "cell_type": "code",
   "execution_count": 380,
   "metadata": {},
   "outputs": [],
   "source": [
    "from sklearn.metrics import accuracy_score"
   ]
  },
  {
   "cell_type": "code",
   "execution_count": 381,
   "metadata": {},
   "outputs": [
    {
     "name": "stdout",
     "output_type": "stream",
     "text": [
      "Optimal hyperparameter combination: {'max_depth': 12, 'min_samples_leaf': 30, 'min_samples_split': 2}\n",
      "\n",
      "Mean cross-validated training accuracy score: 0.5847165420065918\n",
      "Test accuracy: 0.58\n"
     ]
    },
    {
     "data": {
      "text/plain": [
       "Text(34.0, 0.5, 'True')"
      ]
     },
     "execution_count": 381,
     "metadata": {},
     "output_type": "execute_result"
    },
    {
     "data": {
      "image/png": "[encoded data removed]",
      "text/plain": [
       "<Figure size 432x288 with 2 Axes>"
      ]
     },
     "metadata": {
      "needs_background": "light"
     },
     "output_type": "display_data"
    }
   ],
   "source": [
    "hyperparameter_space = {'max_depth':[2,3,4,6,8,10,12,15,20], \n",
    "                        'min_samples_leaf':[1,2,4,6,8,10,20,30],\n",
    "                        'min_samples_split':[1,2,3,4,5,6,8,10]}\n",
    "\n",
    "from sklearn.model_selection import GridSearchCV\n",
    "gs = GridSearchCV(dtree, param_grid=hyperparameter_space, \n",
    "                  scoring=\"accuracy\",\n",
    "                  n_jobs=-1, cv=2, return_train_score=True)\n",
    "\n",
    "gs.fit(X_train, y_train)\n",
    "print(\"Optimal hyperparameter combination:\", gs.best_params_)\n",
    "print()\n",
    "print(\"Mean cross-validated training accuracy score:\",\n",
    "      gs.best_score_)\n",
    "gs.best_estimator_.fit(X_train, y_train)\n",
    "y_pred = gs.best_estimator_.predict(X_test) # Predictions\n",
    "y_true = y_test # True values\n",
    "\n",
    "print(\"Test accuracy:\", np.round(accuracy_score(y_true, y_pred), 2))\n",
    "cf_matrix = confusion_matrix(y_true, y_pred)\n",
    "import seaborn as sns\n",
    "import matplotlib.pyplot as plt\n",
    "sns.heatmap(cf_matrix, annot=True, cmap='Blues')\n",
    "plt.xlabel('Predicted')\n",
    "plt.ylabel('True')"
   ]
  },
  {
   "cell_type": "code",
   "execution_count": 382,
   "metadata": {},
   "outputs": [],
   "source": [
    "dtree = DecisionTreeClassifier(max_depth=12, min_samples_leaf=30, min_samples_split=2, random_state=42)"
   ]
  },
  {
   "cell_type": "code",
   "execution_count": 383,
   "metadata": {},
   "outputs": [
    {
     "name": "stdout",
     "output_type": "stream",
     "text": [
      "              precision    recall  f1-score   support\n",
      "\n",
      "         0.0       0.43      0.58      0.49       178\n",
      "         1.0       0.46      0.55      0.50       129\n",
      "         2.0       0.83      0.85      0.84       360\n",
      "         3.0       0.40      0.32      0.36       124\n",
      "         4.0       0.44      0.44      0.44       125\n",
      "         5.0       0.64      0.49      0.55       152\n",
      "         6.0       0.11      0.02      0.04        44\n",
      "\n",
      "    accuracy                           0.58      1112\n",
      "   macro avg       0.47      0.46      0.46      1112\n",
      "weighted avg       0.58      0.58      0.57      1112\n",
      "\n"
     ]
    }
   ],
   "source": [
    "dtree.fit(X_train,y_train)\n",
    "predictions = dtree.predict(X_test)\n",
    "from sklearn.metrics import classification_report,confusion_matrix\n",
    "print(classification_report(y_test,predictions))"
   ]
  },
  {
   "cell_type": "code",
   "execution_count": 384,
   "metadata": {},
   "outputs": [
    {
     "data": {
      "text/plain": [
       "0.6819897845880524"
      ]
     },
     "execution_count": 384,
     "metadata": {},
     "output_type": "execute_result"
    }
   ],
   "source": [
    "train_score = dtree.score(X_train, y_train)\n",
    "train_score"
   ]
  },
  {
   "cell_type": "code",
   "execution_count": 385,
   "metadata": {},
   "outputs": [
    {
     "data": {
      "text/plain": [
       "0.5836330935251799"
      ]
     },
     "execution_count": 385,
     "metadata": {},
     "output_type": "execute_result"
    }
   ],
   "source": [
    "test_score = dtree.score(X_test, y_test)\n",
    "test_score"
   ]
  },
  {
   "cell_type": "markdown",
   "metadata": {},
   "source": [
    "# Random Forests"
   ]
  },
  {
   "cell_type": "code",
   "execution_count": 524,
   "metadata": {},
   "outputs": [
    {
     "data": {
      "text/plain": [
       "RandomForestClassifier()"
      ]
     },
     "execution_count": 524,
     "metadata": {},
     "output_type": "execute_result"
    }
   ],
   "source": [
    "from sklearn.ensemble import RandomForestClassifier\n",
    "rfc = RandomForestClassifier(n_estimators=100)\n",
    "rfc.fit(X_train, y_train)"
   ]
  },
  {
   "cell_type": "code",
   "execution_count": 525,
   "metadata": {},
   "outputs": [],
   "source": [
    "rfc_pred = rfc.predict(X_test)"
   ]
  },
  {
   "cell_type": "code",
   "execution_count": 526,
   "metadata": {},
   "outputs": [
    {
     "data": {
      "text/plain": [
       "0.987119697979125"
      ]
     },
     "execution_count": 526,
     "metadata": {},
     "output_type": "execute_result"
    }
   ],
   "source": [
    "train_score = rfc.score(X_train, y_train)\n",
    "train_score"
   ]
  },
  {
   "cell_type": "code",
   "execution_count": 527,
   "metadata": {},
   "outputs": [
    {
     "data": {
      "text/plain": [
       "0.6969424460431655"
      ]
     },
     "execution_count": 527,
     "metadata": {},
     "output_type": "execute_result"
    }
   ],
   "source": [
    "test_score = rfc.score(X_test, y_test)\n",
    "test_score"
   ]
  },
  {
   "cell_type": "code",
   "execution_count": 459,
   "metadata": {},
   "outputs": [],
   "source": [
    "#train_predict = rfc.predict(X_train)\n",
    "#test_predict = rfc.predict(X_test)\n",
    "#train_mse = mean_squared_error(y_train, train_predict)\n",
    "#test_mse = mean_squared_error(y_test, test_predict)"
   ]
  },
  {
   "cell_type": "code",
   "execution_count": 460,
   "metadata": {},
   "outputs": [
    {
     "data": {
      "text/plain": [
       "<matplotlib.axes._subplots.AxesSubplot at 0x12e621ee2b0>"
      ]
     },
     "execution_count": 460,
     "metadata": {},
     "output_type": "execute_result"
    },
    {
     "data": {
      "image/png": "[encoded data removed]",
      "text/plain": [
       "<Figure size 720x504 with 2 Axes>"
      ]
     },
     "metadata": {
      "needs_background": "light"
     },
     "output_type": "display_data"
    }
   ],
   "source": [
    "df_cm = pd.DataFrame(confusion_matrix(y_test,pred))\n",
    "plt.figure(figsize = (10,7))\n",
    "sns.heatmap(df_cm, cmap='Blues', xticklabels=False, yticklabels=False)"
   ]
  },
  {
   "cell_type": "code",
   "execution_count": 528,
   "metadata": {},
   "outputs": [
    {
     "name": "stdout",
     "output_type": "stream",
     "text": [
      "[[136  14   9   3   3  12   1]\n",
      " [ 12  85  17   3   7   5   0]\n",
      " [ 15   5 332   3   3   2   0]\n",
      " [ 25   0  18  59  14   7   1]\n",
      " [ 13   7  15  17  66   7   0]\n",
      " [ 28   8   8   7   6  95   0]\n",
      " [ 22   7   7   2   2   2   2]]\n"
     ]
    }
   ],
   "source": [
    "print(confusion_matrix(y_test,rfc_pred))"
   ]
  },
  {
   "cell_type": "code",
   "execution_count": 529,
   "metadata": {},
   "outputs": [
    {
     "name": "stdout",
     "output_type": "stream",
     "text": [
      "              precision    recall  f1-score   support\n",
      "\n",
      "         0.0       0.54      0.76      0.63       178\n",
      "         1.0       0.67      0.66      0.67       129\n",
      "         2.0       0.82      0.92      0.87       360\n",
      "         3.0       0.63      0.48      0.54       124\n",
      "         4.0       0.65      0.53      0.58       125\n",
      "         5.0       0.73      0.62      0.67       152\n",
      "         6.0       0.50      0.05      0.08        44\n",
      "\n",
      "    accuracy                           0.70      1112\n",
      "   macro avg       0.65      0.57      0.58      1112\n",
      "weighted avg       0.69      0.70      0.68      1112\n",
      "\n"
     ]
    }
   ],
   "source": [
    "print(classification_report(y_test,rfc_pred))"
   ]
  },
  {
   "cell_type": "code",
   "execution_count": 463,
   "metadata": {},
   "outputs": [
    {
     "data": {
      "text/plain": [
       "GridSearchCV(cv=10, estimator=RandomForestClassifier(),\n",
       "             param_grid=[{'bootstrap': [True, False],\n",
       "                          'max_depth': [10, 50, None], 'max_features': [5, 10],\n",
       "                          'n_estimators': [10, 25]}],\n",
       "             scoring='neg_mean_squared_error')"
      ]
     },
     "execution_count": 463,
     "metadata": {},
     "output_type": "execute_result"
    }
   ],
   "source": [
    "from sklearn.model_selection import GridSearchCV\n",
    "\n",
    "param_grid = [\n",
    "{'n_estimators': [10, 25], 'max_features': [5, 10], \n",
    " 'max_depth': [10, 50, None], 'bootstrap': [True, False]}\n",
    "]\n",
    "\n",
    "grid_search_forest = GridSearchCV(rfc, param_grid, cv=10, scoring='neg_mean_squared_error')\n",
    "grid_search_forest.fit(X_train, y_train)"
   ]
  },
  {
   "cell_type": "code",
   "execution_count": 464,
   "metadata": {},
   "outputs": [],
   "source": [
    "train_scoreNum, test_scoreNum = validation_curve(\n",
    "                                RandomForestClassifier(),\n",
    "                                X = X_train, y = y_train, \n",
    "                                param_name = 'n_estimators', \n",
    "                                param_range = [10, 25], cv = 3)"
   ]
  },
  {
   "cell_type": "code",
   "execution_count": 465,
   "metadata": {},
   "outputs": [
    {
     "data": {
      "image/png": "[encoded data removed]",
      "text/plain": [
       "<Figure size 432x288 with 1 Axes>"
      ]
     },
     "metadata": {
      "needs_background": "light"
     },
     "output_type": "display_data"
    },
    {
     "data": {
      "text/plain": [
       "<matplotlib.axes._subplots.AxesSubplot at 0x12e1013b070>"
      ]
     },
     "execution_count": 465,
     "metadata": {},
     "output_type": "execute_result"
    }
   ],
   "source": [
    "from yellowbrick.model_selection import ValidationCurve\n",
    "from warnings import simplefilter\n",
    "# Ignore all future warnings\n",
    "simplefilter(action='ignore', category=FutureWarning)\n",
    "X = pd.concat([X_train, X_test])\n",
    "y = pd.concat([y_train,y_test])\n",
    "# Plot the validation curve\n",
    "\n",
    "viz = ValidationCurve(\n",
    "    RandomForestClassifier(), param_name=\"max_depth\",\n",
    "    param_range=np.arange(1, 10), cv=10, scoring=\"r2\"\n",
    ")\n",
    "\n",
    "# Fit and show the visualizer\n",
    "viz.fit(X, y)\n",
    "viz.show()"
   ]
  },
  {
   "cell_type": "code",
   "execution_count": 530,
   "metadata": {},
   "outputs": [],
   "source": [
    "rfc = RandomForestClassifier(n_estimators=50, max_depth=5, min_samples_leaf=1, min_samples_split=2)\n",
    "rfc.fit(X_train, y_train)\n",
    "rfc_pred = rfc.predict(X_test)"
   ]
  },
  {
   "cell_type": "code",
   "execution_count": 531,
   "metadata": {},
   "outputs": [
    {
     "data": {
      "text/plain": [
       "0.6828780812791473"
      ]
     },
     "execution_count": 531,
     "metadata": {},
     "output_type": "execute_result"
    }
   ],
   "source": [
    "train_score = rfc.score(X_train, y_train)\n",
    "train_score"
   ]
  },
  {
   "cell_type": "code",
   "execution_count": 532,
   "metadata": {},
   "outputs": [
    {
     "data": {
      "text/plain": [
       "0.6312949640287769"
      ]
     },
     "execution_count": 532,
     "metadata": {},
     "output_type": "execute_result"
    }
   ],
   "source": [
    "test_score = rfc.score(X_test, y_test)\n",
    "test_score"
   ]
  },
  {
   "cell_type": "code",
   "execution_count": 533,
   "metadata": {},
   "outputs": [
    {
     "data": {
      "text/plain": [
       "<matplotlib.axes._subplots.AxesSubplot at 0x12e62f70c10>"
      ]
     },
     "execution_count": 533,
     "metadata": {},
     "output_type": "execute_result"
    },
    {
     "data": {
      "image/png": "[encoded data removed]",
      "text/plain": [
       "<Figure size 720x504 with 2 Axes>"
      ]
     },
     "metadata": {
      "needs_background": "light"
     },
     "output_type": "display_data"
    }
   ],
   "source": [
    "df_cm = pd.DataFrame(confusion_matrix(y_test,pred))\n",
    "plt.figure(figsize = (10,7))\n",
    "sns.heatmap(df_cm, cmap='Blues', xticklabels=False, yticklabels=False)"
   ]
  },
  {
   "cell_type": "code",
   "execution_count": 534,
   "metadata": {},
   "outputs": [
    {
     "name": "stdout",
     "output_type": "stream",
     "text": [
      "[[147   6  15   0   0  10   0]\n",
      " [ 28  59  19   1  10  12   0]\n",
      " [ 16   1 341   1   0   1   0]\n",
      " [ 55   3  21  10  21  14   0]\n",
      " [ 25   3  27   1  59  10   0]\n",
      " [ 41   1  12   2  10  86   0]\n",
      " [ 25   5   8   0   4   2   0]]\n"
     ]
    }
   ],
   "source": [
    "print(confusion_matrix(y_test,rfc_pred))"
   ]
  },
  {
   "cell_type": "code",
   "execution_count": 535,
   "metadata": {},
   "outputs": [
    {
     "name": "stdout",
     "output_type": "stream",
     "text": [
      "              precision    recall  f1-score   support\n",
      "\n",
      "         0.0       0.44      0.83      0.57       178\n",
      "         1.0       0.76      0.46      0.57       129\n",
      "         2.0       0.77      0.95      0.85       360\n",
      "         3.0       0.67      0.08      0.14       124\n",
      "         4.0       0.57      0.47      0.52       125\n",
      "         5.0       0.64      0.57      0.60       152\n",
      "         6.0       0.00      0.00      0.00        44\n",
      "\n",
      "    accuracy                           0.63      1112\n",
      "   macro avg       0.55      0.48      0.46      1112\n",
      "weighted avg       0.63      0.63      0.59      1112\n",
      "\n"
     ]
    },
    {
     "name": "stderr",
     "output_type": "stream",
     "text": [
      "C:\\Users\\11068\\Anaconda3\\lib\\site-packages\\sklearn\\metrics\\_classification.py:1221: UndefinedMetricWarning: Precision and F-score are ill-defined and being set to 0.0 in labels with no predicted samples. Use `zero_division` parameter to control this behavior.\n",
      "  _warn_prf(average, modifier, msg_start, len(result))\n"
     ]
    }
   ],
   "source": [
    "print(classification_report(y_test,rfc_pred))"
   ]
  },
  {
   "cell_type": "markdown",
   "metadata": {},
   "source": [
    "# Gradient Boosting Classifiers"
   ]
  },
  {
   "cell_type": "code",
   "execution_count": 536,
   "metadata": {},
   "outputs": [],
   "source": [
    "from sklearn.ensemble import GradientBoostingClassifier"
   ]
  },
  {
   "cell_type": "code",
   "execution_count": 537,
   "metadata": {},
   "outputs": [
    {
     "name": "stdout",
     "output_type": "stream",
     "text": [
      "Learning rate:  1\n",
      "Accuracy score (training): 0.147\n",
      "Accuracy score (test): 0.143\n",
      "Confusion Matrix:\n",
      "[[127  14  21   3   2  10   1]\n",
      " [  8  88  18   3   6   5   1]\n",
      " [ 22   6 318   9   1   4   0]\n",
      " [ 31   7  26  41   9  10   0]\n",
      " [ 14   7  27   8  59   9   1]\n",
      " [ 24   8  20   5   6  89   0]\n",
      " [ 13   8  11   4   1   3   4]]\n",
      "Classification Report\n",
      "              precision    recall  f1-score   support\n",
      "\n",
      "         0.0       0.53      0.71      0.61       178\n",
      "         1.0       0.64      0.68      0.66       129\n",
      "         2.0       0.72      0.88      0.79       360\n",
      "         3.0       0.56      0.33      0.42       124\n",
      "         4.0       0.70      0.47      0.56       125\n",
      "         5.0       0.68      0.59      0.63       152\n",
      "         6.0       0.57      0.09      0.16        44\n",
      "\n",
      "    accuracy                           0.65      1112\n",
      "   macro avg       0.63      0.54      0.55      1112\n",
      "weighted avg       0.65      0.65      0.63      1112\n",
      "\n"
     ]
    }
   ],
   "source": [
    "gb_clf2 = GradientBoostingClassifier(n_estimators=100, learning_rate=0.075, max_features=2, max_depth=2, random_state=0)\n",
    "gb_clf2.fit(X_train, y_train)\n",
    "predictions = gb_clf2.predict(X_test)\n",
    "\n",
    "print(\"Learning rate: \", learning_rate)\n",
    "print(\"Accuracy score (training): {0:.3f}\".format(gb_clf.score(X_train, y_train)))\n",
    "print(\"Accuracy score (test): {0:.3f}\".format(gb_clf.score(X_test, y_test)))\n",
    "\n",
    "print(\"Confusion Matrix:\")\n",
    "print(confusion_matrix(y_test, predictions))\n",
    "\n",
    "print(\"Classification Report\")\n",
    "print(classification_report(y_test, predictions))"
   ]
  },
  {
   "cell_type": "code",
   "execution_count": 538,
   "metadata": {},
   "outputs": [
    {
     "name": "stdout",
     "output_type": "stream",
     "text": [
      "Learning rate:  0.05\n",
      "Accuracy score (training): 0.987\n",
      "Accuracy score (test): 0.688\n",
      "Learning rate:  0.075\n",
      "Accuracy score (training): 0.987\n",
      "Accuracy score (test): 0.689\n",
      "Learning rate:  0.1\n",
      "Accuracy score (training): 0.987\n",
      "Accuracy score (test): 0.685\n",
      "Learning rate:  0.25\n",
      "Accuracy score (training): 0.987\n",
      "Accuracy score (test): 0.674\n",
      "Learning rate:  0.5\n",
      "Accuracy score (training): 0.987\n",
      "Accuracy score (test): 0.683\n",
      "Learning rate:  0.75\n",
      "Accuracy score (training): 0.987\n",
      "Accuracy score (test): 0.674\n",
      "Learning rate:  1\n",
      "Accuracy score (training): 0.288\n",
      "Accuracy score (test): 0.270\n"
     ]
    }
   ],
   "source": [
    "lr_list = [0.05, 0.075, 0.1, 0.25, 0.5, 0.75, 1]\n",
    "\n",
    "for learning_rate in lr_list:\n",
    "    gb_clf = GradientBoostingClassifier(n_estimators=100, learning_rate=learning_rate, max_features=2, max_depth=10, random_state=0)\n",
    "    gb_clf.fit(X_train, y_train)\n",
    "\n",
    "    print(\"Learning rate: \", learning_rate)\n",
    "    print(\"Accuracy score (training): {0:.3f}\".format(gb_clf.score(X_train, y_train)))\n",
    "    print(\"Accuracy score (test): {0:.3f}\".format(gb_clf.score(X_test, y_test)))"
   ]
  },
  {
   "cell_type": "code",
   "execution_count": 539,
   "metadata": {},
   "outputs": [
    {
     "name": "stdout",
     "output_type": "stream",
     "text": [
      "Confusion Matrix:\n",
      "[[123  14  16  10   5   8   2]\n",
      " [ 15  76  12   7  11   6   2]\n",
      " [ 35  15 279   9   8  10   4]\n",
      " [ 24   6  27  35  19  12   1]\n",
      " [ 10   9  18   8  69   9   2]\n",
      " [ 31   7  13   6  11  83   1]\n",
      " [ 12   8  12   2   1   4   5]]\n",
      "Classification Report\n",
      "              precision    recall  f1-score   support\n",
      "\n",
      "         0.0       0.49      0.69      0.57       178\n",
      "         1.0       0.56      0.59      0.58       129\n",
      "         2.0       0.74      0.78      0.76       360\n",
      "         3.0       0.45      0.28      0.35       124\n",
      "         4.0       0.56      0.55      0.55       125\n",
      "         5.0       0.63      0.55      0.58       152\n",
      "         6.0       0.29      0.11      0.16        44\n",
      "\n",
      "    accuracy                           0.60      1112\n",
      "   macro avg       0.53      0.51      0.51      1112\n",
      "weighted avg       0.59      0.60      0.59      1112\n",
      "\n"
     ]
    }
   ],
   "source": [
    "gb_clf2 = GradientBoostingClassifier(n_estimators=30, learning_rate=0.5, max_features=2, max_depth=2, random_state=0)\n",
    "gb_clf2.fit(X_train, y_train)\n",
    "predictions = gb_clf2.predict(X_test)\n",
    "\n",
    "print(\"Confusion Matrix:\")\n",
    "print(confusion_matrix(y_test, predictions))\n",
    "\n",
    "print(\"Classification Report\")\n",
    "print(classification_report(y_test, predictions))"
   ]
  },
  {
   "cell_type": "code",
   "execution_count": 540,
   "metadata": {},
   "outputs": [
    {
     "data": {
      "text/plain": [
       "0.7301798800799467"
      ]
     },
     "execution_count": 540,
     "metadata": {},
     "output_type": "execute_result"
    }
   ],
   "source": [
    "train_score = gb_clf2.score(X_train, y_train)\n",
    "train_score"
   ]
  },
  {
   "cell_type": "code",
   "execution_count": 541,
   "metadata": {},
   "outputs": [
    {
     "data": {
      "text/plain": [
       "0.6025179856115108"
      ]
     },
     "execution_count": 541,
     "metadata": {},
     "output_type": "execute_result"
    }
   ],
   "source": [
    "test_score = gb_clf2.score(X_test, y_test)\n",
    "test_score"
   ]
  }
 ],
 "metadata": {
  "kernelspec": {
   "display_name": "Python 3",
   "language": "python",
   "name": "python3"
  },
  "language_info": {
   "codemirror_mode": {
    "name": "ipython",
    "version": 3
   },
   "file_extension": ".py",
   "mimetype": "text/x-python",
   "name": "python",
   "nbconvert_exporter": "python",
   "pygments_lexer": "ipython3",
   "version": "3.8.3"
  }
 },
 "nbformat": 4,
 "nbformat_minor": 4
}
